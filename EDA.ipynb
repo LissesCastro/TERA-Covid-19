{
 "cells": [
  {
   "cell_type": "code",
   "execution_count": 89,
   "metadata": {},
   "outputs": [],
   "source": [
    "import numpy as np\n",
    "import pandas as pd\n",
    "import matplotlib.pyplot as plt\n",
    "import seaborn as sns\n",
    "import plotly.express as px\n",
    "\n",
    "import warnings\n",
    "warnings.filterwarnings(\"ignore\")"
   ]
  },
  {
   "attachments": {},
   "cell_type": "markdown",
   "metadata": {},
   "source": [
    "<h1>0. Preparando a base</h1>"
   ]
  },
  {
   "cell_type": "code",
   "execution_count": 90,
   "metadata": {},
   "outputs": [],
   "source": [
    "params = {'legend.fontsize': 'x-large',\n",
    "          'figure.figsize': (12, 8),\n",
    "          'axes.labelsize': 'x-large',\n",
    "          'axes.titlesize':'x-large',\n",
    "          'xtick.labelsize':'x-large',\n",
    "          'ytick.labelsize':'x-large'}\n",
    "\n",
    "%matplotlib inline\n",
    "plt.rcParams.update(params)"
   ]
  },
  {
   "cell_type": "code",
   "execution_count": 91,
   "metadata": {},
   "outputs": [],
   "source": [
    "df = pd.read_csv('Covid Data.csv')"
   ]
  },
  {
   "cell_type": "code",
   "execution_count": 92,
   "metadata": {},
   "outputs": [
    {
     "data": {
      "text/plain": [
       "(1048575, 21)"
      ]
     },
     "execution_count": 92,
     "metadata": {},
     "output_type": "execute_result"
    }
   ],
   "source": [
    "df.shape"
   ]
  },
  {
   "cell_type": "code",
   "execution_count": 93,
   "metadata": {},
   "outputs": [
    {
     "data": {
      "text/plain": [
       "USMER                    int64\n",
       "MEDICAL_UNIT             int64\n",
       "SEX                      int64\n",
       "PATIENT_TYPE             int64\n",
       "DATE_DIED               object\n",
       "INTUBED                  int64\n",
       "PNEUMONIA                int64\n",
       "AGE                      int64\n",
       "PREGNANT                 int64\n",
       "DIABETES                 int64\n",
       "COPD                     int64\n",
       "ASTHMA                   int64\n",
       "INMSUPR                  int64\n",
       "HIPERTENSION             int64\n",
       "OTHER_DISEASE            int64\n",
       "CARDIOVASCULAR           int64\n",
       "OBESITY                  int64\n",
       "RENAL_CHRONIC            int64\n",
       "TOBACCO                  int64\n",
       "CLASIFFICATION_FINAL     int64\n",
       "ICU                      int64\n",
       "dtype: object"
      ]
     },
     "execution_count": 93,
     "metadata": {},
     "output_type": "execute_result"
    }
   ],
   "source": [
    "df.dtypes"
   ]
  },
  {
   "cell_type": "code",
   "execution_count": 94,
   "metadata": {},
   "outputs": [
    {
     "data": {
      "text/plain": [
       "[2    662903\n",
       " 1    385672\n",
       " Name: USMER, dtype: int64,\n",
       " 12    602995\n",
       " 4     314405\n",
       " 6      40584\n",
       " 9      38116\n",
       " 3      19175\n",
       " 8      10399\n",
       " 10      7873\n",
       " 5       7244\n",
       " 11      5577\n",
       " 13       996\n",
       " 7        891\n",
       " 2        169\n",
       " 1        151\n",
       " Name: MEDICAL_UNIT, dtype: int64,\n",
       " 1    525064\n",
       " 2    523511\n",
       " Name: SEX, dtype: int64,\n",
       " 1    848544\n",
       " 2    200031\n",
       " Name: PATIENT_TYPE, dtype: int64,\n",
       " 97    848544\n",
       " 2     159050\n",
       " 1      33656\n",
       " 99      7325\n",
       " Name: INTUBED, dtype: int64,\n",
       " 2     892534\n",
       " 1     140038\n",
       " 99     16003\n",
       " Name: PNEUMONIA, dtype: int64,\n",
       " 30     27010\n",
       " 31     25927\n",
       " 28     25313\n",
       " 29     25134\n",
       " 34     24872\n",
       "        ...  \n",
       " 114        2\n",
       " 116        2\n",
       " 111        1\n",
       " 121        1\n",
       " 113        1\n",
       " Name: AGE, Length: 121, dtype: int64,\n",
       " 97    523511\n",
       " 2     513179\n",
       " 1       8131\n",
       " 98      3754\n",
       " Name: PREGNANT, dtype: int64,\n",
       " 2     920248\n",
       " 1     124989\n",
       " 98      3338\n",
       " Name: DIABETES, dtype: int64,\n",
       " 2     1030510\n",
       " 1       15062\n",
       " 98       3003\n",
       " Name: COPD, dtype: int64,\n",
       " 2     1014024\n",
       " 1       31572\n",
       " 98       2979\n",
       " Name: ASTHMA, dtype: int64,\n",
       " 2     1031001\n",
       " 1       14170\n",
       " 98       3404\n",
       " Name: INMSUPR, dtype: int64,\n",
       " 2     882742\n",
       " 1     162729\n",
       " 98      3104\n",
       " Name: HIPERTENSION, dtype: int64,\n",
       " 2     1015490\n",
       " 1       28040\n",
       " 98       5045\n",
       " Name: OTHER_DISEASE, dtype: int64,\n",
       " 2     1024730\n",
       " 1       20769\n",
       " 98       3076\n",
       " Name: CARDIOVASCULAR, dtype: int64,\n",
       " 2     885727\n",
       " 1     159816\n",
       " 98      3032\n",
       " Name: OBESITY, dtype: int64,\n",
       " 2     1026665\n",
       " 1       18904\n",
       " 98       3006\n",
       " Name: RENAL_CHRONIC, dtype: int64,\n",
       " 2     960979\n",
       " 1      84376\n",
       " 98      3220\n",
       " Name: TOBACCO, dtype: int64,\n",
       " 7    499250\n",
       " 3    381527\n",
       " 6    128133\n",
       " 5     26091\n",
       " 1      8601\n",
       " 4      3122\n",
       " 2      1851\n",
       " Name: CLASIFFICATION_FINAL, dtype: int64,\n",
       " 97    848544\n",
       " 2     175685\n",
       " 1      16858\n",
       " 99      7488\n",
       " Name: ICU, dtype: int64]"
      ]
     },
     "execution_count": 94,
     "metadata": {},
     "output_type": "execute_result"
    }
   ],
   "source": [
    "[df[col].value_counts() for col in df.columns if df[col].dtype == 'int64']"
   ]
  },
  {
   "attachments": {},
   "cell_type": "markdown",
   "metadata": {},
   "source": [
    "Valores 98 ou 99 normalmente se referem aos números nulos. Para o caso da variável Pregnant, valores 97 indicam que o paciente é um homem (valores 99 são NAs). No caso da variável ICU (Intensive Care Unity) a variável 97 indica pacientes que foram tratados em casa e, portanto, nem foram considerados para o tratamento na unidade intensiva"
   ]
  },
  {
   "cell_type": "markdown",
   "metadata": {},
   "source": [
    "<h1>1. EDA: Verificando o perfil geral dos pacientes </h1>"
   ]
  },
  {
   "attachments": {},
   "cell_type": "markdown",
   "metadata": {},
   "source": [
    "Perfil geral de idade e gênero entre os pacientes"
   ]
  },
  {
   "cell_type": "code",
   "execution_count": 95,
   "metadata": {},
   "outputs": [
    {
     "data": {
      "image/png": "[encoded data removed]",
      "text/plain": [
       "<Figure size 864x576 with 2 Axes>"
      ]
     },
     "metadata": {
      "needs_background": "light"
     },
     "output_type": "display_data"
    }
   ],
   "source": [
    "fig, axs = plt.subplots(1,2)\n",
    "ax1 = sns.countplot(x=df['SEX'], ax=axs[0])\n",
    "ax2 = sns.boxplot(x='AGE', data=df, ax=axs[1])\n",
    "#ax2.axvline(x=df['AGE'].mean(), color='red')"
   ]
  },
  {
   "cell_type": "code",
   "execution_count": 96,
   "metadata": {},
   "outputs": [
    {
     "name": "stdout",
     "output_type": "stream",
     "text": [
      "Existe uma paridade na distribuição de gênero dos pacientes com covid. A idade da maioria dos pacientes fica entre 30.0 e 53.0 anos\n"
     ]
    }
   ],
   "source": [
    "print('Existe uma paridade na distribuição de gênero dos pacientes com covid. A idade da maioria dos pacientes fica entre {} e {} anos'.format(df['AGE'].quantile(0.25), df['AGE'].quantile(0.75)))"
   ]
  },
  {
   "cell_type": "code",
   "execution_count": 97,
   "metadata": {},
   "outputs": [],
   "source": [
    "#df['HAS_COVID'] = np.where(df['CLASIFFICATION_FINAL'] == (1 or 2 or 3), 1, 0)\n",
    "\n",
    "\n",
    "#fig, axs = plt.subplots(1,1)\n",
    "#ax1 = sns.countplot(x=df['CLASIFFICATION_FINAL'])"
   ]
  },
  {
   "cell_type": "code",
   "execution_count": 99,
   "metadata": {},
   "outputs": [
    {
     "data": {
      "text/plain": [
       "0    1039974\n",
       "1       8601\n",
       "Name: HAS_COVID, dtype: int64"
      ]
     },
     "execution_count": 99,
     "metadata": {},
     "output_type": "execute_result"
    }
   ],
   "source": [
    "df['HAS_COVID'].value_counts()"
   ]
  },
  {
   "cell_type": "code",
   "execution_count": 60,
   "metadata": {},
   "outputs": [
    {
     "data": {
      "text/plain": [
       "<AxesSubplot:xlabel='DATE_DIED,DATE_DIED'>"
      ]
     },
     "execution_count": 60,
     "metadata": {},
     "output_type": "execute_result"
    },
    {
     "data": {
      "image/png": "[encoded data removed]",
      "text/plain": [
       "<Figure size 864x576 with 1 Axes>"
      ]
     },
     "metadata": {
      "needs_background": "light"
     },
     "output_type": "display_data"
    }
   ],
   "source": [
    "df['DATE_DIED'] = df['DATE_DIED'].replace('9999-99-99', np.nan)\n",
    "df['DATE_DIED'] = pd.to_datetime(df['DATE_DIED'])\n",
    "df['USMER'].groupby([df['DATE_DIED'].dt.year, df['DATE_DIED'].dt.month]).count().plot(kind='bar')"
   ]
  },
  {
   "attachments": {},
   "cell_type": "markdown",
   "metadata": {},
   "source": [
    "A maior parte dos casos no méxico ocorreu entre maio e julho de 2020. A diminuição em 2021 se deu pela diminuição de casos ou do relato de ocorrências?"
   ]
  },
  {
   "cell_type": "code",
   "execution_count": null,
   "metadata": {},
   "outputs": [],
   "source": []
  }
 ],
 "metadata": {
  "kernelspec": {
   "display_name": "Python 3",
   "language": "python",
   "name": "python3"
  },
  "language_info": {
   "codemirror_mode": {
    "name": "ipython",
    "version": 3
   },
   "file_extension": ".py",
   "mimetype": "text/x-python",
   "name": "python",
   "nbconvert_exporter": "python",
   "pygments_lexer": "ipython3",
   "version": "3.9.6"
  },
  "orig_nbformat": 4,
  "vscode": {
   "interpreter": {
    "hash": "d1b1fed7f164b9743db0488a8442b0484c62425777d2b5a8f2dd650d8bcba271"
   }
  }
 },
 "nbformat": 4,
 "nbformat_minor": 2
}
